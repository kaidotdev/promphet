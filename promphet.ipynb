{
 "cells": [
  {
   "cell_type": "code",
   "execution_count": null,
   "metadata": {},
   "outputs": [],
   "source": [
    "!pip install fbprophet"
   ]
  },
  {
   "cell_type": "code",
   "execution_count": null,
   "metadata": {},
   "outputs": [],
   "source": [
    "import datetime\n",
    "import urllib\n",
    "import requests\n",
    "import pandas\n",
    "import fbprophet"
   ]
  },
  {
   "cell_type": "code",
   "execution_count": null,
   "metadata": {},
   "outputs": [],
   "source": [
    "PROMETHEUS_HOST = 'http://thanos-querier.istio-system.svc.cluster.local.:9090'\n",
    "query = 'sum(rate(envoy_requests_total[1m])) by (host, status)'\n",
    "start = str(int(datetime.datetime(2020, 4, 1, 0, 0, tzinfo=datetime.timezone(datetime.timedelta(hours=9))).timestamp()))\n",
    "end = str(int(datetime.datetime(2020, 5, 1, 0, 0, tzinfo=datetime.timezone(datetime.timedelta(hours=9))).timestamp()))\n",
    "step = '300s'\n",
    "freq = '5min'\n",
    "periods = 12\n",
    "changepoint_range = 0.8\n",
    "changepoint_prior_scale = 0.05\n",
    "n_changepoints = 25\n",
    "seasonality_mode = 'additive'\n",
    "seasonality_prior_scale = 10.0\n",
    "cross_validation_initial = '20day'\n",
    "cross_validation_period = '1day'\n",
    "cross_validation_horizon = '5day'\n",
    "cross_validation_metric = 'mse'"
   ]
  },
  {
   "cell_type": "code",
   "execution_count": null,
   "metadata": {},
   "outputs": [],
   "source": [
    "result = requests.get(PROMETHEUS_HOST + '/api/v1/query_range?query=' + urllib.parse.quote(query) + \"&start=\" + start + \"&end=\" + end + \"&step=\" + step).json()['data']['result']"
   ]
  },
  {
   "cell_type": "code",
   "execution_count": null,
   "metadata": {
    "scrolled": false
   },
   "outputs": [],
   "source": [
    "def p(r):\n",
    "    print(r['metric'])\n",
    "    if len(r['values']) < 2:\n",
    "        return\n",
    "    df = pandas.DataFrame([[datetime.datetime.fromtimestamp(value[0]), value[1]] for value in r['values']])\n",
    "    df.columns = ['ds', 'y']\n",
    "    p = fbprophet.Prophet(changepoint_range=changepoint_range,changepoint_prior_scale=changepoint_prior_scale,n_changepoints=n_changepoints,seasonality_mode=seasonality_mode,seasonality_prior_scale=seasonality_prior_scale)\n",
    "    p.fit(df)\n",
    "    forecast = p.predict(p.make_future_dataframe(periods=periods, freq=freq))\n",
    "    p.plot(forecast)\n",
    "    p.plot_components(forecast)\n",
    "    cv = fbprophet.diagnostics.cross_validation(p, initial=cross_validation_initial, period=cross_validation_period, horizon=cross_validation_horizon)\n",
    "    fbprophet.plot.plot_cross_validation_metric(cv, metric=cross_validation_metric)"
   ]
  },
  {
   "cell_type": "code",
   "execution_count": null,
   "metadata": {},
   "outputs": [],
   "source": [
    "p(result[0])"
   ]
  }
 ],
 "metadata": {
  "kernelspec": {
   "display_name": "Python 3",
   "language": "python",
   "name": "python3"
  },
  "language_info": {
   "codemirror_mode": {
    "name": "ipython",
    "version": 3
   },
   "file_extension": ".py",
   "mimetype": "text/x-python",
   "name": "python",
   "nbconvert_exporter": "python",
   "pygments_lexer": "ipython3",
   "version": "3.7.6"
  }
 },
 "nbformat": 4,
 "nbformat_minor": 4
}
